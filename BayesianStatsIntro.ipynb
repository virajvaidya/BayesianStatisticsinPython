{
  "nbformat": 4,
  "nbformat_minor": 0,
  "metadata": {
    "colab": {
      "name": "BayesianStatsIntro.ipynb",
      "provenance": [],
      "authorship_tag": "ABX9TyPN/NgHDYtpjLDd/v4x4l9p",
      "include_colab_link": true
    },
    "kernelspec": {
      "name": "python3",
      "display_name": "Python 3"
    },
    "language_info": {
      "name": "python"
    }
  },
  "cells": [
    {
      "cell_type": "markdown",
      "metadata": {
        "id": "view-in-github",
        "colab_type": "text"
      },
      "source": [
        "<a href=\"https://colab.research.google.com/github/virajvaidya/BayesianStatisticsinPython/blob/main/BayesianStatsIntro.ipynb\" target=\"_parent\"><img src=\"https://colab.research.google.com/assets/colab-badge.svg\" alt=\"Open In Colab\"/></a>"
      ]
    },
    {
      "cell_type": "markdown",
      "source": [
        "**Completed as part of a course taught by Mr. Ning Xu at The University of Sydney**"
      ],
      "metadata": {
        "id": "GNs535rN-BPn"
      }
    },
    {
      "cell_type": "code",
      "execution_count": 30,
      "metadata": {
        "id": "IHPYuez_sEjd"
      },
      "outputs": [],
      "source": [
        "import numpy             as np\n",
        "import scipy             as sp\n",
        "import pandas            as pd\n",
        "import matplotlib.pyplot as plt\n",
        "import statsmodels.api   as sm\n",
        "\n",
        "from scipy.stats         import randint\n",
        "from scipy.stats         import norm\n",
        "from scipy.stats         import beta\n",
        "\n",
        "np.random.seed(seed=5)"
      ]
    },
    {
      "cell_type": "code",
      "source": [
        "Y=[]\n",
        "X=[]\n",
        "\n",
        "beta_0 = []\n",
        "beta_1 = []\n",
        "group  = []\n",
        "\n",
        "for i in range(1,120):\n",
        "  ind =randint.rvs(0,3)\n",
        "  b0 =ind * 5+5\n",
        "  b1 =ind * 5+5\n",
        "\n",
        "  income = norm.rvs(loc=5, scale=5, size=1)[0]\n",
        "  random = norm.rvs(loc=0, scale=5, size=1)[0]\n",
        "\n",
        "  consumption = b0 + b1 + income + random\n",
        "\n",
        "  Y.append(consumption)\n",
        "  X.append(income)\n",
        "  beta_0.append(b0)\n",
        "  beta_1.append(b1)\n",
        "  group.append(ind)\n",
        "\n",
        "\n",
        "d= {'Y': pd.Series(Y),\n",
        "    'X': pd.Series(X),\n",
        "    'group': pd.Series(group)\n",
        "    }\n",
        "\n",
        "df=pd.DataFrame(d)"
      ],
      "metadata": {
        "id": "_LBiMGivtMl-"
      },
      "execution_count": 25,
      "outputs": []
    },
    {
      "cell_type": "code",
      "source": [
        "df"
      ],
      "metadata": {
        "colab": {
          "base_uri": "https://localhost:8080/",
          "height": 424
        },
        "id": "q6eQgxeGyL65",
        "outputId": "1da68f0c-a4b3-4608-e0e1-c35e147913a0"
      },
      "execution_count": 26,
      "outputs": [
        {
          "output_type": "execute_result",
          "data": {
            "text/html": [
              "\n",
              "  <div id=\"df-4bd53713-ca44-4637-8a66-1a4feae6f936\">\n",
              "    <div class=\"colab-df-container\">\n",
              "      <div>\n",
              "<style scoped>\n",
              "    .dataframe tbody tr th:only-of-type {\n",
              "        vertical-align: middle;\n",
              "    }\n",
              "\n",
              "    .dataframe tbody tr th {\n",
              "        vertical-align: top;\n",
              "    }\n",
              "\n",
              "    .dataframe thead th {\n",
              "        text-align: right;\n",
              "    }\n",
              "</style>\n",
              "<table border=\"1\" class=\"dataframe\">\n",
              "  <thead>\n",
              "    <tr style=\"text-align: right;\">\n",
              "      <th></th>\n",
              "      <th>Y</th>\n",
              "      <th>X</th>\n",
              "      <th>group</th>\n",
              "    </tr>\n",
              "  </thead>\n",
              "  <tbody>\n",
              "    <tr>\n",
              "      <th>0</th>\n",
              "      <td>43.906319</td>\n",
              "      <td>8.131866</td>\n",
              "      <td>2</td>\n",
              "    </tr>\n",
              "    <tr>\n",
              "      <th>1</th>\n",
              "      <td>34.198867</td>\n",
              "      <td>6.730417</td>\n",
              "      <td>2</td>\n",
              "    </tr>\n",
              "    <tr>\n",
              "      <th>2</th>\n",
              "      <td>30.426924</td>\n",
              "      <td>11.702335</td>\n",
              "      <td>1</td>\n",
              "    </tr>\n",
              "    <tr>\n",
              "      <th>3</th>\n",
              "      <td>21.444848</td>\n",
              "      <td>-0.877242</td>\n",
              "      <td>2</td>\n",
              "    </tr>\n",
              "    <tr>\n",
              "      <th>4</th>\n",
              "      <td>33.025714</td>\n",
              "      <td>6.722855</td>\n",
              "      <td>1</td>\n",
              "    </tr>\n",
              "    <tr>\n",
              "      <th>...</th>\n",
              "      <td>...</td>\n",
              "      <td>...</td>\n",
              "      <td>...</td>\n",
              "    </tr>\n",
              "    <tr>\n",
              "      <th>114</th>\n",
              "      <td>-0.178923</td>\n",
              "      <td>3.549528</td>\n",
              "      <td>0</td>\n",
              "    </tr>\n",
              "    <tr>\n",
              "      <th>115</th>\n",
              "      <td>40.418463</td>\n",
              "      <td>1.337732</td>\n",
              "      <td>2</td>\n",
              "    </tr>\n",
              "    <tr>\n",
              "      <th>116</th>\n",
              "      <td>27.678511</td>\n",
              "      <td>2.300698</td>\n",
              "      <td>2</td>\n",
              "    </tr>\n",
              "    <tr>\n",
              "      <th>117</th>\n",
              "      <td>9.540418</td>\n",
              "      <td>-2.036755</td>\n",
              "      <td>1</td>\n",
              "    </tr>\n",
              "    <tr>\n",
              "      <th>118</th>\n",
              "      <td>20.288302</td>\n",
              "      <td>-0.391853</td>\n",
              "      <td>1</td>\n",
              "    </tr>\n",
              "  </tbody>\n",
              "</table>\n",
              "<p>119 rows × 3 columns</p>\n",
              "</div>\n",
              "      <button class=\"colab-df-convert\" onclick=\"convertToInteractive('df-4bd53713-ca44-4637-8a66-1a4feae6f936')\"\n",
              "              title=\"Convert this dataframe to an interactive table.\"\n",
              "              style=\"display:none;\">\n",
              "        \n",
              "  <svg xmlns=\"http://www.w3.org/2000/svg\" height=\"24px\"viewBox=\"0 0 24 24\"\n",
              "       width=\"24px\">\n",
              "    <path d=\"M0 0h24v24H0V0z\" fill=\"none\"/>\n",
              "    <path d=\"M18.56 5.44l.94 2.06.94-2.06 2.06-.94-2.06-.94-.94-2.06-.94 2.06-2.06.94zm-11 1L8.5 8.5l.94-2.06 2.06-.94-2.06-.94L8.5 2.5l-.94 2.06-2.06.94zm10 10l.94 2.06.94-2.06 2.06-.94-2.06-.94-.94-2.06-.94 2.06-2.06.94z\"/><path d=\"M17.41 7.96l-1.37-1.37c-.4-.4-.92-.59-1.43-.59-.52 0-1.04.2-1.43.59L10.3 9.45l-7.72 7.72c-.78.78-.78 2.05 0 2.83L4 21.41c.39.39.9.59 1.41.59.51 0 1.02-.2 1.41-.59l7.78-7.78 2.81-2.81c.8-.78.8-2.07 0-2.86zM5.41 20L4 18.59l7.72-7.72 1.47 1.35L5.41 20z\"/>\n",
              "  </svg>\n",
              "      </button>\n",
              "      \n",
              "  <style>\n",
              "    .colab-df-container {\n",
              "      display:flex;\n",
              "      flex-wrap:wrap;\n",
              "      gap: 12px;\n",
              "    }\n",
              "\n",
              "    .colab-df-convert {\n",
              "      background-color: #E8F0FE;\n",
              "      border: none;\n",
              "      border-radius: 50%;\n",
              "      cursor: pointer;\n",
              "      display: none;\n",
              "      fill: #1967D2;\n",
              "      height: 32px;\n",
              "      padding: 0 0 0 0;\n",
              "      width: 32px;\n",
              "    }\n",
              "\n",
              "    .colab-df-convert:hover {\n",
              "      background-color: #E2EBFA;\n",
              "      box-shadow: 0px 1px 2px rgba(60, 64, 67, 0.3), 0px 1px 3px 1px rgba(60, 64, 67, 0.15);\n",
              "      fill: #174EA6;\n",
              "    }\n",
              "\n",
              "    [theme=dark] .colab-df-convert {\n",
              "      background-color: #3B4455;\n",
              "      fill: #D2E3FC;\n",
              "    }\n",
              "\n",
              "    [theme=dark] .colab-df-convert:hover {\n",
              "      background-color: #434B5C;\n",
              "      box-shadow: 0px 1px 3px 1px rgba(0, 0, 0, 0.15);\n",
              "      filter: drop-shadow(0px 1px 2px rgba(0, 0, 0, 0.3));\n",
              "      fill: #FFFFFF;\n",
              "    }\n",
              "  </style>\n",
              "\n",
              "      <script>\n",
              "        const buttonEl =\n",
              "          document.querySelector('#df-4bd53713-ca44-4637-8a66-1a4feae6f936 button.colab-df-convert');\n",
              "        buttonEl.style.display =\n",
              "          google.colab.kernel.accessAllowed ? 'block' : 'none';\n",
              "\n",
              "        async function convertToInteractive(key) {\n",
              "          const element = document.querySelector('#df-4bd53713-ca44-4637-8a66-1a4feae6f936');\n",
              "          const dataTable =\n",
              "            await google.colab.kernel.invokeFunction('convertToInteractive',\n",
              "                                                     [key], {});\n",
              "          if (!dataTable) return;\n",
              "\n",
              "          const docLinkHtml = 'Like what you see? Visit the ' +\n",
              "            '<a target=\"_blank\" href=https://colab.research.google.com/notebooks/data_table.ipynb>data table notebook</a>'\n",
              "            + ' to learn more about interactive tables.';\n",
              "          element.innerHTML = '';\n",
              "          dataTable['output_type'] = 'display_data';\n",
              "          await google.colab.output.renderOutput(dataTable, element);\n",
              "          const docLink = document.createElement('div');\n",
              "          docLink.innerHTML = docLinkHtml;\n",
              "          element.appendChild(docLink);\n",
              "        }\n",
              "      </script>\n",
              "    </div>\n",
              "  </div>\n",
              "  "
            ],
            "text/plain": [
              "             Y          X  group\n",
              "0    43.906319   8.131866      2\n",
              "1    34.198867   6.730417      2\n",
              "2    30.426924  11.702335      1\n",
              "3    21.444848  -0.877242      2\n",
              "4    33.025714   6.722855      1\n",
              "..         ...        ...    ...\n",
              "114  -0.178923   3.549528      0\n",
              "115  40.418463   1.337732      2\n",
              "116  27.678511   2.300698      2\n",
              "117   9.540418  -2.036755      1\n",
              "118  20.288302  -0.391853      1\n",
              "\n",
              "[119 rows x 3 columns]"
            ]
          },
          "metadata": {},
          "execution_count": 26
        }
      ]
    },
    {
      "cell_type": "code",
      "source": [
        "fig=plt.figure()\n",
        "\n",
        "plt.scatter(df['X'][df['group']==0], df['Y'][df['group']==0],color='blue',label='mood=1')\n",
        "plt.scatter(df['X'][df['group']==1], df['Y'][df['group']==1],color='red',label='mood=2')\n",
        "plt.scatter(df['X'][df['group']==2], df['Y'][df['group']==2],color='green',label='mood=3')\n",
        "\n",
        "plt.xlabel('X')\n",
        "plt.ylabel('Y')\n",
        "\n",
        "plt.legend()\n",
        "plt.show()\n"
      ],
      "metadata": {
        "colab": {
          "base_uri": "https://localhost:8080/",
          "height": 279
        },
        "id": "q8a6sMZ6yURD",
        "outputId": "9d0cd8b2-1e8c-4af6-e960-d2443179429d"
      },
      "execution_count": 27,
      "outputs": [
        {
          "output_type": "display_data",
          "data": {
            "image/png": "[encoded data removed]",
            "text/plain": [
              "<Figure size 432x288 with 1 Axes>"
            ]
          },
          "metadata": {
            "needs_background": "light"
          }
        }
      ]
    },
    {
      "cell_type": "code",
      "source": [
        "X_one =df[['X']]\n",
        "X_one =sm.add_constant(X_one)\n",
        "Y_one =df[['Y']]\n",
        "\n",
        "reg1 = sm.OLS(Y_one, X_one)\n",
        "\n",
        "result1=reg1.fit()\n",
        "print(result1.summary())"
      ],
      "metadata": {
        "colab": {
          "base_uri": "https://localhost:8080/"
        },
        "id": "8mkTvPLX1NJ0",
        "outputId": "9e139f04-24f1-460c-8963-bf2dc072f2a6"
      },
      "execution_count": 22,
      "outputs": [
        {
          "output_type": "stream",
          "name": "stdout",
          "text": [
            "                            OLS Regression Results                            \n",
            "==============================================================================\n",
            "Dep. Variable:                      Y   R-squared:                       0.314\n",
            "Model:                            OLS   Adj. R-squared:                  0.308\n",
            "Method:                 Least Squares   F-statistic:                     53.57\n",
            "Date:                Fri, 24 Dec 2021   Prob (F-statistic):           3.41e-11\n",
            "Time:                        00:33:14   Log-Likelihood:                -426.33\n",
            "No. Observations:                 119   AIC:                             856.7\n",
            "Df Residuals:                     117   BIC:                             862.2\n",
            "Df Model:                           1                                         \n",
            "Covariance Type:            nonrobust                                         \n",
            "==============================================================================\n",
            "                 coef    std err          t      P>|t|      [0.025      0.975]\n",
            "------------------------------------------------------------------------------\n",
            "const         18.4982      1.218     15.183      0.000      16.085      20.911\n",
            "X              1.2239      0.167      7.319      0.000       0.893       1.555\n",
            "==============================================================================\n",
            "Omnibus:                        9.815   Durbin-Watson:                   2.185\n",
            "Prob(Omnibus):                  0.007   Jarque-Bera (JB):                3.959\n",
            "Skew:                          -0.124   Prob(JB):                        0.138\n",
            "Kurtosis:                       2.142   Cond. No.                         11.2\n",
            "==============================================================================\n",
            "\n",
            "Warnings:\n",
            "[1] Standard Errors assume that the covariance matrix of the errors is correctly specified.\n"
          ]
        }
      ]
    },
    {
      "cell_type": "code",
      "source": [
        "df['Yhat'] = result1.predict()"
      ],
      "metadata": {
        "id": "nUtgT5zf22GU"
      },
      "execution_count": 23,
      "outputs": []
    },
    {
      "cell_type": "markdown",
      "source": [
        "#Bayesian Regression with Discrete and Continuous Prior"
      ],
      "metadata": {
        "id": "olbLH93F6kzb"
      }
    },
    {
      "cell_type": "code",
      "source": [
        "Y1 = []\n",
        "X1 = []\n",
        "\n",
        "beta1_0 = []\n",
        "beta1_1 = []\n",
        "group1  = []\n",
        "\n",
        "for i in range(1,200):\n",
        "    \n",
        "    ind1 = beta.rvs(2, 2, size=1)[0] * 2 - 1;\n",
        "    b10  = ind1 * 10\n",
        "    b11  = ind1 * 10\n",
        "\n",
        "    income = norm.rvs(loc=5, scale=5, size=1)[0]\n",
        "    random = norm.rvs(loc=0, scale=5, size=1)[0]\n",
        "\n",
        "    consumption = b10 + b11 * income + random\n",
        "    \n",
        "    Y1.append(consumption)\n",
        "    X1.append(income)\n",
        "    beta1_0.append(b10)\n",
        "    beta1_1.append(b11)\n",
        "    group1.append(ind1)\n",
        "    \n",
        "d1 = {'Y' : pd.Series(Y1),\n",
        "     'X' : pd.Series(X1),\n",
        "     'mood' : pd.Series(group1)\n",
        "    }\n",
        " \n",
        "df1 = pd.DataFrame(d1)"
      ],
      "metadata": {
        "id": "BTEMQC478lOA"
      },
      "execution_count": 31,
      "outputs": []
    },
    {
      "cell_type": "code",
      "source": [
        "df1"
      ],
      "metadata": {
        "colab": {
          "base_uri": "https://localhost:8080/",
          "height": 424
        },
        "id": "yIrCjz6k8pSn",
        "outputId": "11c18fdb-6bc4-42b5-ae29-12f4c4591f51"
      },
      "execution_count": 32,
      "outputs": [
        {
          "output_type": "execute_result",
          "data": {
            "text/html": [
              "\n",
              "  <div id=\"df-c784f555-c25b-4325-befa-71da90233b0c\">\n",
              "    <div class=\"colab-df-container\">\n",
              "      <div>\n",
              "<style scoped>\n",
              "    .dataframe tbody tr th:only-of-type {\n",
              "        vertical-align: middle;\n",
              "    }\n",
              "\n",
              "    .dataframe tbody tr th {\n",
              "        vertical-align: top;\n",
              "    }\n",
              "\n",
              "    .dataframe thead th {\n",
              "        text-align: right;\n",
              "    }\n",
              "</style>\n",
              "<table border=\"1\" class=\"dataframe\">\n",
              "  <thead>\n",
              "    <tr style=\"text-align: right;\">\n",
              "      <th></th>\n",
              "      <th>Y</th>\n",
              "      <th>X</th>\n",
              "      <th>mood</th>\n",
              "    </tr>\n",
              "  </thead>\n",
              "  <tbody>\n",
              "    <tr>\n",
              "      <th>0</th>\n",
              "      <td>50.923136</td>\n",
              "      <td>17.153856</td>\n",
              "      <td>0.287452</td>\n",
              "    </tr>\n",
              "    <tr>\n",
              "      <th>1</th>\n",
              "      <td>-32.165212</td>\n",
              "      <td>5.938016</td>\n",
              "      <td>-0.439836</td>\n",
              "    </tr>\n",
              "    <tr>\n",
              "      <th>2</th>\n",
              "      <td>6.695106</td>\n",
              "      <td>-3.323943</td>\n",
              "      <td>-0.438737</td>\n",
              "    </tr>\n",
              "    <tr>\n",
              "      <th>3</th>\n",
              "      <td>-6.419905</td>\n",
              "      <td>0.096961</td>\n",
              "      <td>-0.194687</td>\n",
              "    </tr>\n",
              "    <tr>\n",
              "      <th>4</th>\n",
              "      <td>-19.093524</td>\n",
              "      <td>9.982199</td>\n",
              "      <td>-0.206294</td>\n",
              "    </tr>\n",
              "    <tr>\n",
              "      <th>...</th>\n",
              "      <td>...</td>\n",
              "      <td>...</td>\n",
              "      <td>...</td>\n",
              "    </tr>\n",
              "    <tr>\n",
              "      <th>194</th>\n",
              "      <td>36.560757</td>\n",
              "      <td>6.574009</td>\n",
              "      <td>0.502103</td>\n",
              "    </tr>\n",
              "    <tr>\n",
              "      <th>195</th>\n",
              "      <td>-32.426403</td>\n",
              "      <td>5.089789</td>\n",
              "      <td>-0.538012</td>\n",
              "    </tr>\n",
              "    <tr>\n",
              "      <th>196</th>\n",
              "      <td>-9.426082</td>\n",
              "      <td>-1.601992</td>\n",
              "      <td>-0.072326</td>\n",
              "    </tr>\n",
              "    <tr>\n",
              "      <th>197</th>\n",
              "      <td>44.756371</td>\n",
              "      <td>6.234806</td>\n",
              "      <td>0.542011</td>\n",
              "    </tr>\n",
              "    <tr>\n",
              "      <th>198</th>\n",
              "      <td>38.015645</td>\n",
              "      <td>5.569178</td>\n",
              "      <td>0.423702</td>\n",
              "    </tr>\n",
              "  </tbody>\n",
              "</table>\n",
              "<p>199 rows × 3 columns</p>\n",
              "</div>\n",
              "      <button class=\"colab-df-convert\" onclick=\"convertToInteractive('df-c784f555-c25b-4325-befa-71da90233b0c')\"\n",
              "              title=\"Convert this dataframe to an interactive table.\"\n",
              "              style=\"display:none;\">\n",
              "        \n",
              "  <svg xmlns=\"http://www.w3.org/2000/svg\" height=\"24px\"viewBox=\"0 0 24 24\"\n",
              "       width=\"24px\">\n",
              "    <path d=\"M0 0h24v24H0V0z\" fill=\"none\"/>\n",
              "    <path d=\"M18.56 5.44l.94 2.06.94-2.06 2.06-.94-2.06-.94-.94-2.06-.94 2.06-2.06.94zm-11 1L8.5 8.5l.94-2.06 2.06-.94-2.06-.94L8.5 2.5l-.94 2.06-2.06.94zm10 10l.94 2.06.94-2.06 2.06-.94-2.06-.94-.94-2.06-.94 2.06-2.06.94z\"/><path d=\"M17.41 7.96l-1.37-1.37c-.4-.4-.92-.59-1.43-.59-.52 0-1.04.2-1.43.59L10.3 9.45l-7.72 7.72c-.78.78-.78 2.05 0 2.83L4 21.41c.39.39.9.59 1.41.59.51 0 1.02-.2 1.41-.59l7.78-7.78 2.81-2.81c.8-.78.8-2.07 0-2.86zM5.41 20L4 18.59l7.72-7.72 1.47 1.35L5.41 20z\"/>\n",
              "  </svg>\n",
              "      </button>\n",
              "      \n",
              "  <style>\n",
              "    .colab-df-container {\n",
              "      display:flex;\n",
              "      flex-wrap:wrap;\n",
              "      gap: 12px;\n",
              "    }\n",
              "\n",
              "    .colab-df-convert {\n",
              "      background-color: #E8F0FE;\n",
              "      border: none;\n",
              "      border-radius: 50%;\n",
              "      cursor: pointer;\n",
              "      display: none;\n",
              "      fill: #1967D2;\n",
              "      height: 32px;\n",
              "      padding: 0 0 0 0;\n",
              "      width: 32px;\n",
              "    }\n",
              "\n",
              "    .colab-df-convert:hover {\n",
              "      background-color: #E2EBFA;\n",
              "      box-shadow: 0px 1px 2px rgba(60, 64, 67, 0.3), 0px 1px 3px 1px rgba(60, 64, 67, 0.15);\n",
              "      fill: #174EA6;\n",
              "    }\n",
              "\n",
              "    [theme=dark] .colab-df-convert {\n",
              "      background-color: #3B4455;\n",
              "      fill: #D2E3FC;\n",
              "    }\n",
              "\n",
              "    [theme=dark] .colab-df-convert:hover {\n",
              "      background-color: #434B5C;\n",
              "      box-shadow: 0px 1px 3px 1px rgba(0, 0, 0, 0.15);\n",
              "      filter: drop-shadow(0px 1px 2px rgba(0, 0, 0, 0.3));\n",
              "      fill: #FFFFFF;\n",
              "    }\n",
              "  </style>\n",
              "\n",
              "      <script>\n",
              "        const buttonEl =\n",
              "          document.querySelector('#df-c784f555-c25b-4325-befa-71da90233b0c button.colab-df-convert');\n",
              "        buttonEl.style.display =\n",
              "          google.colab.kernel.accessAllowed ? 'block' : 'none';\n",
              "\n",
              "        async function convertToInteractive(key) {\n",
              "          const element = document.querySelector('#df-c784f555-c25b-4325-befa-71da90233b0c');\n",
              "          const dataTable =\n",
              "            await google.colab.kernel.invokeFunction('convertToInteractive',\n",
              "                                                     [key], {});\n",
              "          if (!dataTable) return;\n",
              "\n",
              "          const docLinkHtml = 'Like what you see? Visit the ' +\n",
              "            '<a target=\"_blank\" href=https://colab.research.google.com/notebooks/data_table.ipynb>data table notebook</a>'\n",
              "            + ' to learn more about interactive tables.';\n",
              "          element.innerHTML = '';\n",
              "          dataTable['output_type'] = 'display_data';\n",
              "          await google.colab.output.renderOutput(dataTable, element);\n",
              "          const docLink = document.createElement('div');\n",
              "          docLink.innerHTML = docLinkHtml;\n",
              "          element.appendChild(docLink);\n",
              "        }\n",
              "      </script>\n",
              "    </div>\n",
              "  </div>\n",
              "  "
            ],
            "text/plain": [
              "             Y          X      mood\n",
              "0    50.923136  17.153856  0.287452\n",
              "1   -32.165212   5.938016 -0.439836\n",
              "2     6.695106  -3.323943 -0.438737\n",
              "3    -6.419905   0.096961 -0.194687\n",
              "4   -19.093524   9.982199 -0.206294\n",
              "..         ...        ...       ...\n",
              "194  36.560757   6.574009  0.502103\n",
              "195 -32.426403   5.089789 -0.538012\n",
              "196  -9.426082  -1.601992 -0.072326\n",
              "197  44.756371   6.234806  0.542011\n",
              "198  38.015645   5.569178  0.423702\n",
              "\n",
              "[199 rows x 3 columns]"
            ]
          },
          "metadata": {},
          "execution_count": 32
        }
      ]
    },
    {
      "cell_type": "code",
      "source": [
        "x = np.linspace(beta.ppf(0.0001, 2, 2),\n",
        "                beta.ppf(0.9999, 2, 2), 100)\n",
        "\n",
        "fig, (ax1, ax2) = plt.subplots(1, 2)\n",
        "\n",
        "fig.set_figheight(5)\n",
        "fig.set_figwidth(15)\n",
        "\n",
        "ax1.plot((x-0.5)*2, beta.pdf(x, 2, 2), 'g-', lw=5, alpha=0.8, label='mood pdf')\n",
        "ax1.set_ylabel('probability density')\n",
        "ax1.set_xlabel('mood status (continous)')\n",
        "ax1.legend()\n",
        "\n",
        "ax2.hist(df1['mood'], bins=25, density=True, label=\"mood histogram\")\n",
        "ax2.set_ylabel('histogram density')\n",
        "ax2.set_xlabel('mood status (continous)')\n",
        "ax2.legend()\n",
        "\n",
        "\n",
        "plt.show()"
      ],
      "metadata": {
        "colab": {
          "base_uri": "https://localhost:8080/",
          "height": 291
        },
        "id": "a90Iv0_a9JU-",
        "outputId": "4a837c24-c2a9-42e7-919a-06ea5c6dc25d"
      },
      "execution_count": 36,
      "outputs": [
        {
          "output_type": "display_data",
          "data": {
            "image/png": "[encoded data removed]",
            "text/plain": [
              "<Figure size 1080x360 with 2 Axes>"
            ]
          },
          "metadata": {
            "needs_background": "light"
          }
        }
      ]
    },
    {
      "cell_type": "code",
      "source": [
        "fig = plt.figure()\n",
        "\n",
        "fig.set_figheight(12)\n",
        "fig.set_figwidth(12)\n",
        "\n",
        "plt.scatter(df1['X'], df1['Y'], color='blue', s=80)\n",
        "\n",
        "plt.xlabel('X', fontsize=\"14\")\n",
        "plt.ylabel('Y', fontsize=\"14\")\n",
        "\n",
        "plt.show()"
      ],
      "metadata": {
        "colab": {
          "base_uri": "https://localhost:8080/",
          "height": 718
        },
        "id": "ieBewUVE9YPF",
        "outputId": "bfdf05a6-760c-4717-cf9d-a42ae4a3034e"
      },
      "execution_count": 37,
      "outputs": [
        {
          "output_type": "display_data",
          "data": {
            "image/png": "[encoded data removed]",
            "text/plain": [
              "<Figure size 864x864 with 1 Axes>"
            ]
          },
          "metadata": {
            "needs_background": "light"
          }
        }
      ]
    },
    {
      "cell_type": "code",
      "source": [
        "fig, ((ax1, ax2),(ax3, ax4)) = plt.subplots(2, 2)\n",
        "\n",
        "fig.set_figheight(14)\n",
        "fig.set_figwidth(14)\n",
        "\n",
        "ax1.scatter(df1['X'][df1['mood'] <= -0.5], df1['Y'][df1['mood'] <= -0.5], color='blue', label=r'$ -1 \\leqslant \\mathrm{mood} < -0.5$', s=80)\n",
        "ax1.set_xlabel('X', fontsize='14')\n",
        "ax1.set_ylabel('Y', fontsize='14')\n",
        "ax1.set_xlim([-10, 20])\n",
        "ax1.set_ylim([-100, 120])\n",
        "ax1.legend(fontsize='14')\n",
        "\n",
        "ax2.scatter(df1['X'][(df1['mood'] < 0) & (df1['mood'] > -0.5)] , df1['Y'][(df1['mood'] < 0) & (df1['mood'] > -0.5)], color='red', label=r'$-0.5 \\leqslant \\mathrm{mood} < 0$', s=80)\n",
        "ax2.set_xlabel('X', fontsize='14')\n",
        "ax2.set_ylabel('Y', fontsize='14')\n",
        "ax2.set_xlim([-10, 20])\n",
        "ax2.set_ylim([-100, 120])\n",
        "ax2.legend(fontsize='14')\n",
        "\n",
        "ax3.scatter(df1['X'][(df1['mood'] < 0.5) & (df1['mood'] > 0)] , df1['Y'][(df1['mood'] < 0.5) & (df1['mood'] > 0)], color='purple', label=r'$0 \\leqslant \\mathrm{mood} < 0.5$', s=80)\n",
        "ax3.set_xlabel('X', fontsize='14')\n",
        "ax3.set_ylabel('Y', fontsize='14')\n",
        "ax3.set_xlim([-10, 20])\n",
        "ax3.set_ylim([-100, 120])\n",
        "ax3.legend(fontsize='14')\n",
        "\n",
        "ax4.scatter(df1['X'][(df1['mood'] < 1) & (df1['mood'] > 0.5)] , df1['Y'][(df1['mood'] < 1) & (df1['mood'] > 0.5)], color='green', label=r'$0.5 \\leqslant \\mathrm{mood} \\leqslant 1$', s=80)\n",
        "ax4.set_xlabel('X', fontsize='14')\n",
        "ax4.set_ylabel('Y', fontsize='14')\n",
        "ax4.set_xlim([-10, 20])\n",
        "ax4.set_ylim([-100, 120])\n",
        "ax4.legend(fontsize='14')\n",
        "\n",
        "plt.show()\n"
      ],
      "metadata": {
        "colab": {
          "base_uri": "https://localhost:8080/",
          "height": 744
        },
        "id": "lEnwb5Xa9ckI",
        "outputId": "a36affb7-cc28-4846-8620-ac6631b4870b"
      },
      "execution_count": 38,
      "outputs": [
        {
          "output_type": "display_data",
          "data": {
            "image/png": "[encoded data removed]",
            "text/plain": [
              "<Figure size 1008x1008 with 4 Axes>"
            ]
          },
          "metadata": {
            "needs_background": "light"
          }
        }
      ]
    }
  ]
}